{
  "nbformat": 4,
  "nbformat_minor": 0,
  "metadata": {
    "colab": {
      "provenance": [],
      "authorship_tag": "ABX9TyP+cZRpXFagJDd9gJiRevOh",
      "include_colab_link": true
    },
    "kernelspec": {
      "name": "python3",
      "display_name": "Python 3"
    },
    "language_info": {
      "name": "python"
    }
  },
  "cells": [
    {
      "cell_type": "markdown",
      "metadata": {
        "id": "view-in-github",
        "colab_type": "text"
      },
      "source": [
        "<a href=\"https://colab.research.google.com/github/BilawalBaloch/Tensorflow.NN/blob/main/CNN.ipynb\" target=\"_parent\"><img src=\"https://colab.research.google.com/assets/colab-badge.svg\" alt=\"Open In Colab\"/></a>"
      ]
    },
    {
      "cell_type": "code",
      "execution_count": 78,
      "metadata": {
        "id": "n3mQjfFP6VoZ"
      },
      "outputs": [],
      "source": [
        "import tensorflow as tf\n",
        "from tensorflow import keras\n",
        "from tensorflow.keras import datasets, layers, models\n",
        "import matplotlib.pyplot as plt\n",
        "import numpy as np\n"
      ]
    },
    {
      "cell_type": "code",
      "source": [
        "(x_train, y_train), (x_test, y_test) = datasets.cifar10.load_data()\n"
      ],
      "metadata": {
        "id": "g3revrxu6tV_"
      },
      "execution_count": 79,
      "outputs": []
    },
    {
      "cell_type": "code",
      "source": [
        "x_train.shape"
      ],
      "metadata": {
        "colab": {
          "base_uri": "https://localhost:8080/"
        },
        "id": "qxj3iaSm7d0T",
        "outputId": "f96ec205-513c-439c-e505-808353f13c65"
      },
      "execution_count": 80,
      "outputs": [
        {
          "output_type": "execute_result",
          "data": {
            "text/plain": [
              "(50000, 32, 32, 3)"
            ]
          },
          "metadata": {},
          "execution_count": 80
        }
      ]
    },
    {
      "cell_type": "code",
      "source": [
        "x_test.shape"
      ],
      "metadata": {
        "colab": {
          "base_uri": "https://localhost:8080/"
        },
        "id": "lNROkN2I8ewJ",
        "outputId": "7fc1dfc5-7c58-47d5-8cc9-3d53e00e14e8"
      },
      "execution_count": 81,
      "outputs": [
        {
          "output_type": "execute_result",
          "data": {
            "text/plain": [
              "(10000, 32, 32, 3)"
            ]
          },
          "metadata": {},
          "execution_count": 81
        }
      ]
    },
    {
      "cell_type": "code",
      "source": [
        "plt.imshow(x_train[0])"
      ],
      "metadata": {
        "colab": {
          "base_uri": "https://localhost:8080/",
          "height": 447
        },
        "id": "_Y3JO9wG8v_G",
        "outputId": "44648669-edde-44ee-e2e7-775300092e95"
      },
      "execution_count": 82,
      "outputs": [
        {
          "output_type": "execute_result",
          "data": {
            "text/plain": [
              "<matplotlib.image.AxesImage at 0x7d4588176b10>"
            ]
          },
          "metadata": {},
          "execution_count": 82
        },
        {
          "output_type": "display_data",
          "data": {
            "text/plain": [
              "<Figure size 640x480 with 1 Axes>"
            ],
            "image/png": "[encoded data removed]"
          },
          "metadata": {}
        }
      ]
    },
    {
      "cell_type": "code",
      "source": [
        "plt.figure(figsize=(5,2))\n",
        "plt.imshow(x_train[0])"
      ],
      "metadata": {
        "colab": {
          "base_uri": "https://localhost:8080/",
          "height": 234
        },
        "id": "n4bZpqo885GP",
        "outputId": "105650fb-dcda-4b93-cc3c-8e09d83b92f2"
      },
      "execution_count": 83,
      "outputs": [
        {
          "output_type": "execute_result",
          "data": {
            "text/plain": [
              "<matplotlib.image.AxesImage at 0x7d45881d0d10>"
            ]
          },
          "metadata": {},
          "execution_count": 83
        },
        {
          "output_type": "display_data",
          "data": {
            "text/plain": [
              "<Figure size 500x200 with 1 Axes>"
            ],
            "image/png": "[encoded data removed]"
          },
          "metadata": {}
        }
      ]
    },
    {
      "cell_type": "markdown",
      "source": [
        "**Normalize pixel values to be between 0 and 1\n",
        "    This is a crucial step for neural network training**"
      ],
      "metadata": {
        "id": "OqiMGZUDAwx0"
      }
    },
    {
      "cell_type": "code",
      "source": [
        "x_train , x_test  = x_train/255.0, x_test/255.0"
      ],
      "metadata": {
        "id": "TxFbbEOg-LLz"
      },
      "execution_count": 84,
      "outputs": []
    },
    {
      "cell_type": "markdown",
      "source": [
        "**The labels (y) are currently single integers (e.g., 0, 1, 2).\n",
        "    We need to convert them to categorical one-hot encoded vectors.\n",
        "    For example, the label '3' would become [0, 0, 0, 1, 0, 0, 0, 0, 0, 0]**"
      ],
      "metadata": {
        "id": "LmSiUn9CBqAH"
      }
    },
    {
      "cell_type": "code",
      "source": [
        "y_train = tf.keras.utils.to_categorical(y_train, 10)"
      ],
      "metadata": {
        "id": "UPLm_0JYAusP"
      },
      "execution_count": 85,
      "outputs": []
    },
    {
      "cell_type": "code",
      "source": [
        "y_test = tf.keras.utils.to_categorical(y_test, 10)"
      ],
      "metadata": {
        "id": "bvxVRIJsBSh3"
      },
      "execution_count": 86,
      "outputs": []
    },
    {
      "cell_type": "markdown",
      "source": [
        "**Defining the Classes**"
      ],
      "metadata": {
        "id": "ZWjyA_PwB3EW"
      }
    },
    {
      "cell_type": "code",
      "source": [
        "class_name = ['airplane', 'automobile', 'bird', 'cat', 'deer', 'dog', 'frog', 'horse', 'ship', 'truck']\n"
      ],
      "metadata": {
        "id": "3xv3nKoEBjY6"
      },
      "execution_count": 87,
      "outputs": []
    },
    {
      "cell_type": "markdown",
      "source": [
        "**Print data shapes to verify the process**"
      ],
      "metadata": {
        "id": "CXNW7sosCKtm"
      }
    },
    {
      "cell_type": "code",
      "source": [
        "print(f\"x_train shape :{x_train.shape}\")\n",
        "print(f\"y_train shape :{y_train.shape}\")\n",
        "print(f\"x_test shape:{x_test.shape}\")\n",
        "print(f\"y_test shape:{y_test.shape}\")"
      ],
      "metadata": {
        "colab": {
          "base_uri": "https://localhost:8080/"
        },
        "id": "Ynx4muN3CYjw",
        "outputId": "f23800ff-29f5-4405-e096-b70c6ad9ee12"
      },
      "execution_count": 88,
      "outputs": [
        {
          "output_type": "stream",
          "name": "stdout",
          "text": [
            "x_train shape :(50000, 32, 32, 3)\n",
            "y_train shape :(50000, 10)\n",
            "x_test shape:(10000, 32, 32, 3)\n",
            "y_test shape:(10000, 10)\n"
          ]
        }
      ]
    },
    {
      "cell_type": "markdown",
      "source": [
        "# **Model Selection**"
      ],
      "metadata": {
        "id": "bII_AepaEn42"
      }
    },
    {
      "cell_type": "code",
      "source": [
        "model_cnn = keras.Sequential"
      ],
      "metadata": {
        "id": "BCKbZmUvEra3"
      },
      "execution_count": 89,
      "outputs": []
    },
    {
      "cell_type": "markdown",
      "source": [
        "**putting the layers**"
      ],
      "metadata": {
        "id": "kwJD0VC6GMjE"
      }
    },
    {
      "cell_type": "code",
      "source": [
        "model_cnn = keras.Sequential([\n",
        "    layers.Conv2D(32, kernel_size =(3,3), activation = 'relu', input_shape = (32,32,3)),\n",
        "    layers.MaxPooling2D((2,2)),\n",
        "    layers.Conv2D(filters = 64, kernel_size = (3,3), activation = 'relu'),\n",
        "    layers.MaxPooling2D((2,2)),\n",
        "    layers.Conv2D(filters =64, kernel_size = (3,3), activation= 'relu'),\n",
        "    layers.Flatten(),\n",
        "    layers.Dense(64, activation= 'relu'),\n",
        "    layers.Dense(10, activation = 'softmax')\n",
        "\n",
        "])"
      ],
      "metadata": {
        "colab": {
          "base_uri": "https://localhost:8080/"
        },
        "id": "LhcbKOwNFGZE",
        "outputId": "03328e55-106c-4522-f424-12cdbb8a6faf"
      },
      "execution_count": 90,
      "outputs": [
        {
          "output_type": "stream",
          "name": "stderr",
          "text": [
            "/usr/local/lib/python3.11/dist-packages/keras/src/layers/convolutional/base_conv.py:107: UserWarning: Do not pass an `input_shape`/`input_dim` argument to a layer. When using Sequential models, prefer using an `Input(shape)` object as the first layer in the model instead.\n",
            "  super().__init__(activity_regularizer=activity_regularizer, **kwargs)\n"
          ]
        }
      ]
    },
    {
      "cell_type": "markdown",
      "source": [
        "**Compiling the model**"
      ],
      "metadata": {
        "id": "g9xL75aEMVNf"
      }
    },
    {
      "cell_type": "code",
      "source": [
        "model_cnn.compile(optimizer='Adam', loss='categorical_crossentropy', metrics=['accuracy'])"
      ],
      "metadata": {
        "id": "_zIHHW6SMcWH"
      },
      "execution_count": 91,
      "outputs": []
    },
    {
      "cell_type": "markdown",
      "source": [
        "**Shape**"
      ],
      "metadata": {
        "id": "TchNJx7AM-ko"
      }
    },
    {
      "cell_type": "code",
      "source": [
        "\n",
        "print(\"x_train shape:\", x_train.shape)\n",
        "print(\"y_train shape:\", y_train.shape)\n",
        ""
      ],
      "metadata": {
        "colab": {
          "base_uri": "https://localhost:8080/"
        },
        "id": "0aPoQ4fuNB4Y",
        "outputId": "912a5488-1cb9-4cd3-c9d2-19db2c3f4a3a"
      },
      "execution_count": 92,
      "outputs": [
        {
          "output_type": "stream",
          "name": "stdout",
          "text": [
            "x_train shape: (50000, 32, 32, 3)\n",
            "y_train shape: (50000, 10)\n"
          ]
        }
      ]
    },
    {
      "cell_type": "markdown",
      "source": [
        "#**Fitting the Model**"
      ],
      "metadata": {
        "id": "d0p9NwwdNE-f"
      }
    },
    {
      "cell_type": "code",
      "source": [
        "model_cnn.fit(x_train, y_train, epochs=5, batch_size=128, validation_split=0.2)"
      ],
      "metadata": {
        "colab": {
          "base_uri": "https://localhost:8080/"
        },
        "id": "CevvUDcTNIvn",
        "outputId": "48a44c4e-5f6b-4d9d-e531-0f594742607b"
      },
      "execution_count": 96,
      "outputs": [
        {
          "output_type": "stream",
          "name": "stdout",
          "text": [
            "Epoch 1/5\n",
            "\u001b[1m313/313\u001b[0m \u001b[32m━━━━━━━━━━━━━━━━━━━━\u001b[0m\u001b[37m\u001b[0m \u001b[1m51s\u001b[0m 163ms/step - accuracy: 0.5659 - loss: 1.2366 - val_accuracy: 0.5866 - val_loss: 1.1911\n",
            "Epoch 2/5\n",
            "\u001b[1m313/313\u001b[0m \u001b[32m━━━━━━━━━━━━━━━━━━━━\u001b[0m\u001b[37m\u001b[0m \u001b[1m82s\u001b[0m 163ms/step - accuracy: 0.5944 - loss: 1.1408 - val_accuracy: 0.6050 - val_loss: 1.1236\n",
            "Epoch 3/5\n",
            "\u001b[1m313/313\u001b[0m \u001b[32m━━━━━━━━━━━━━━━━━━━━\u001b[0m\u001b[37m\u001b[0m \u001b[1m83s\u001b[0m 165ms/step - accuracy: 0.6299 - loss: 1.0505 - val_accuracy: 0.6124 - val_loss: 1.0998\n",
            "Epoch 4/5\n",
            "\u001b[1m313/313\u001b[0m \u001b[32m━━━━━━━━━━━━━━━━━━━━\u001b[0m\u001b[37m\u001b[0m \u001b[1m83s\u001b[0m 169ms/step - accuracy: 0.6626 - loss: 0.9801 - val_accuracy: 0.6371 - val_loss: 1.0396\n",
            "Epoch 5/5\n",
            "\u001b[1m313/313\u001b[0m \u001b[32m━━━━━━━━━━━━━━━━━━━━\u001b[0m\u001b[37m\u001b[0m \u001b[1m80s\u001b[0m 162ms/step - accuracy: 0.6745 - loss: 0.9297 - val_accuracy: 0.6537 - val_loss: 1.0013\n"
          ]
        },
        {
          "output_type": "execute_result",
          "data": {
            "text/plain": [
              "<keras.src.callbacks.history.History at 0x7d458bd31510>"
            ]
          },
          "metadata": {},
          "execution_count": 96
        }
      ]
    },
    {
      "cell_type": "code",
      "source": [
        "loss, mae = model_cnn.evaluate(x_test, y_test)\n",
        "print(f'Mean Absolute Error (MAE) on test data: {mae}')"
      ],
      "metadata": {
        "colab": {
          "base_uri": "https://localhost:8080/"
        },
        "id": "IAgU06jlNRUu",
        "outputId": "775c9984-ebbb-475a-a3f6-542ab235b02b"
      },
      "execution_count": 95,
      "outputs": [
        {
          "output_type": "stream",
          "name": "stdout",
          "text": [
            "\u001b[1m313/313\u001b[0m \u001b[32m━━━━━━━━━━━━━━━━━━━━\u001b[0m\u001b[37m\u001b[0m \u001b[1m4s\u001b[0m 12ms/step - accuracy: 0.5330 - loss: 1.3281\n",
            "Mean Absolute Error (MAE) on test data: 0.5299999713897705\n"
          ]
        }
      ]
    }
  ]
}